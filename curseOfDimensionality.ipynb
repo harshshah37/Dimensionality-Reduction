{
  "nbformat": 4,
  "nbformat_minor": 0,
  "metadata": {
    "colab": {
      "provenance": []
    },
    "kernelspec": {
      "name": "python3",
      "display_name": "Python 3"
    },
    "language_info": {
      "name": "python"
    },
    "accelerator": "TPU"
  },
  "cells": [
    {
      "cell_type": "code",
      "execution_count": null,
      "metadata": {
        "id": "cAr2-jnIGX5t"
      },
      "outputs": [],
      "source": [
        "import numpy as np\n",
        "import pandas as pd\n",
        "import math\n",
        "import matplotlib.pyplot as plt\n",
        "import unicodeit as uni"
      ]
    },
    {
      "cell_type": "code",
      "source": [
        "#Generating a random array of size(1000,50) and filling it with random integer numbers between (1,1000)\n",
        "random_arr = np.random.randint(1,1000, size=(1000,50))"
      ],
      "metadata": {
        "id": "sGcLx8_9JYWz"
      },
      "execution_count": null,
      "outputs": []
    },
    {
      "cell_type": "code",
      "source": [
        "lst_int= list(range(1,51))"
      ],
      "metadata": {
        "id": "3CjNQ7ZEJ5QU"
      },
      "execution_count": null,
      "outputs": []
    },
    {
      "cell_type": "code",
      "source": [
        "lst_str = [str(i) for i in lst_int]"
      ],
      "metadata": {
        "id": "rsabM9UQKhRt"
      },
      "execution_count": null,
      "outputs": []
    },
    {
      "cell_type": "code",
      "source": [
        "#Converting array to dataframe\n",
        "df = pd.DataFrame(random_arr, columns=lst_str)\n",
        "print(df)"
      ],
      "metadata": {
        "colab": {
          "base_uri": "https://localhost:8080/"
        },
        "id": "DrcrzB29MMJ-",
        "outputId": "74ae82c9-a87f-4280-f9c6-02db6bd75418"
      },
      "execution_count": null,
      "outputs": [
        {
          "output_type": "stream",
          "name": "stdout",
          "text": [
            "       1    2    3    4    5    6    7    8    9   10  ...   41   42   43  \\\n",
            "0    236   74  295  770  233  413  457  805   94  383  ...  643  982   57   \n",
            "1     83  312  677  806  911  914  397  103  797  968  ...  171  243  917   \n",
            "2    675  664  592  420  950  891  178  768  189  458  ...  520  889  318   \n",
            "3    607  863  137   27  314   50  497   42    9  533  ...  461  440  130   \n",
            "4    368  969  661  762  338  243   73  409   49   53  ...  171  220  711   \n",
            "..   ...  ...  ...  ...  ...  ...  ...  ...  ...  ...  ...  ...  ...  ...   \n",
            "995  452  931  247  667  564  552  518  720  297  303  ...  487  275  353   \n",
            "996  132   29   35   21  319    7  959  805  412  618  ...  671  762  174   \n",
            "997  685  994  559  684  872  238  330  597  211  823  ...  953  378  831   \n",
            "998  129  684  490  863  532  341  296  365  634  332  ...  234  934  922   \n",
            "999  426   49  566  917  154  947  838  303  420  977  ...  217  263  572   \n",
            "\n",
            "      44   45   46   47   48   49   50  \n",
            "0    763  217   39  772   27  612  728  \n",
            "1    937  143  864  443  422  995  248  \n",
            "2    569   85    7  966   72   56  279  \n",
            "3    283  414  444  434   29  937  166  \n",
            "4    469  727  596  891  821   72  790  \n",
            "..   ...  ...  ...  ...  ...  ...  ...  \n",
            "995  551  690  273  497  935  463  180  \n",
            "996  760  984    7  331  876   63  311  \n",
            "997  143  797  497  682  712  771  357  \n",
            "998   41  587  861  886   72  272  968  \n",
            "999  780  647  232  274  401  487  567  \n",
            "\n",
            "[1000 rows x 50 columns]\n"
          ]
        }
      ]
    },
    {
      "cell_type": "code",
      "source": [
        "#Calculating Euclidean Distance taking each point as reference point for 50 dimensions\n",
        "\n",
        "max_l=[]\n",
        "min_l=[]\n",
        "for i in range(50):\n",
        "  d=[]\n",
        "  a = np.array(df.iloc[0:1000,0:i]) #This is used to generate 1000 rows for each of the 50 dimenions\n",
        "  for j in range(1000):\n",
        "    p1 = a[j] #Here, we take each element as the reference point\n",
        "    for k in range(j+1,1000):\n",
        "      p2 = a[k] #Here, we consider every element except the reference element\n",
        "      dist = np.linalg.norm(p1 - p2) #Inbuilt NumPy function to calculate Euclidean Distance\n",
        "      d.append(dist)\n",
        "\n",
        "  d_float = np.array(d, dtype=float)\n",
        "  max = np.max(d_float)\n",
        "  min = np.min(d_float)\n",
        "  max_l.append(max) #Storing the maximum value of Euclidean Distance for each dimension\n",
        "  min_l.append(min) #Storing the minimum value of Euclidean Distance for each dimension\n",
        "  indices = list(range(0,1000))\n",
        "  d_float = np.delete(d_float, indices)\n",
        "\n",
        "\n",
        "\n",
        "\n"
      ],
      "metadata": {
        "id": "CkCGzPKlZI5o"
      },
      "execution_count": null,
      "outputs": []
    },
    {
      "cell_type": "code",
      "source": [
        "#Calculating the log function that is to be plotted on the Y-axis\n",
        "z=[]\n",
        "for i in range(50):\n",
        "  x = math.log(((max_l[i]-min_l[i])/min_l[i]),10)\n",
        "  z.append(x)"
      ],
      "metadata": {
        "colab": {
          "base_uri": "https://localhost:8080/"
        },
        "id": "rS0ZtQBSHfaz",
        "outputId": "5055a9ae-4158-444e-de71-03c883b5a37e"
      },
      "execution_count": null,
      "outputs": [
        {
          "output_type": "stream",
          "name": "stderr",
          "text": [
            "<ipython-input-14-be232785ca9d>:3: RuntimeWarning: invalid value encountered in double_scalars\n",
            "  x = math.log(((max_l[i]-min_l[i])/min_l[i]),10)\n",
            "<ipython-input-14-be232785ca9d>:3: RuntimeWarning: divide by zero encountered in double_scalars\n",
            "  x = math.log(((max_l[i]-min_l[i])/min_l[i]),10)\n"
          ]
        }
      ]
    },
    {
      "cell_type": "code",
      "source": [
        "x = lst_int\n",
        "y = z\n",
        "\n",
        "plt.plot(x,y, linewidth=2)\n",
        "plt.title('Curse of Dimensionality plot')\n",
        "plt.grid()\n",
        "plt.xlabel('No. of Dimensions')\n",
        "plt.ylabel(uni.replace('log_1_0((MAX_DIST - MIN_DIST)/MIN_DIST)'))\n",
        "\n",
        "plt.show()"
      ],
      "metadata": {
        "colab": {
          "base_uri": "https://localhost:8080/",
          "height": 472
        },
        "id": "hon8wk9dNsrW",
        "outputId": "5c8b5431-b917-4276-d997-cde63c1e0a5b"
      },
      "execution_count": null,
      "outputs": [
        {
          "output_type": "display_data",
          "data": {
            "text/plain": [
              "<Figure size 640x480 with 1 Axes>"
            ],
            "image/png": "[encoded data removed]"
          },
          "metadata": {}
        }
      ]
    }
  ]
}